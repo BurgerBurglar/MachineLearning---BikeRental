{
 "cells": [
  {
   "cell_type": "code",
   "execution_count": 1,
   "metadata": {},
   "outputs": [],
   "source": [
    "import numpy as np\n",
    "import pandas as pd\n",
    "import matplotlib.pyplot as plt\n",
    "import math"
   ]
  },
  {
   "cell_type": "code",
   "execution_count": 3,
   "metadata": {
    "collapsed": false
   },
   "outputs": [
    {
     "data": {
      "text/html": [
       "<div>\n",
       "<style scoped>\n",
       "    .dataframe tbody tr th:only-of-type {\n",
       "        vertical-align: middle;\n",
       "    }\n",
       "\n",
       "    .dataframe tbody tr th {\n",
       "        vertical-align: top;\n",
       "    }\n",
       "\n",
       "    .dataframe thead th {\n",
       "        text-align: right;\n",
       "    }\n",
       "</style>\n",
       "<table border=\"1\" class=\"dataframe\">\n",
       "  <thead>\n",
       "    <tr style=\"text-align: right;\">\n",
       "      <th></th>\n",
       "      <th>instant</th>\n",
       "      <th>dteday</th>\n",
       "      <th>season</th>\n",
       "      <th>yr</th>\n",
       "      <th>mnth</th>\n",
       "      <th>hr</th>\n",
       "      <th>holiday</th>\n",
       "      <th>weekday</th>\n",
       "      <th>workingday</th>\n",
       "      <th>weathersit</th>\n",
       "      <th>temp</th>\n",
       "      <th>atemp</th>\n",
       "      <th>hum</th>\n",
       "      <th>windspeed</th>\n",
       "      <th>casual</th>\n",
       "      <th>registered</th>\n",
       "      <th>cnt</th>\n",
       "    </tr>\n",
       "  </thead>\n",
       "  <tbody>\n",
       "    <tr>\n",
       "      <th>0</th>\n",
       "      <td>1</td>\n",
       "      <td>2011-01-01</td>\n",
       "      <td>1</td>\n",
       "      <td>0</td>\n",
       "      <td>1</td>\n",
       "      <td>0</td>\n",
       "      <td>0</td>\n",
       "      <td>6</td>\n",
       "      <td>0</td>\n",
       "      <td>1</td>\n",
       "      <td>0.24</td>\n",
       "      <td>0.2879</td>\n",
       "      <td>0.81</td>\n",
       "      <td>0.0</td>\n",
       "      <td>3</td>\n",
       "      <td>13</td>\n",
       "      <td>16</td>\n",
       "    </tr>\n",
       "    <tr>\n",
       "      <th>1</th>\n",
       "      <td>2</td>\n",
       "      <td>2011-01-01</td>\n",
       "      <td>1</td>\n",
       "      <td>0</td>\n",
       "      <td>1</td>\n",
       "      <td>1</td>\n",
       "      <td>0</td>\n",
       "      <td>6</td>\n",
       "      <td>0</td>\n",
       "      <td>1</td>\n",
       "      <td>0.22</td>\n",
       "      <td>0.2727</td>\n",
       "      <td>0.80</td>\n",
       "      <td>0.0</td>\n",
       "      <td>8</td>\n",
       "      <td>32</td>\n",
       "      <td>40</td>\n",
       "    </tr>\n",
       "    <tr>\n",
       "      <th>2</th>\n",
       "      <td>3</td>\n",
       "      <td>2011-01-01</td>\n",
       "      <td>1</td>\n",
       "      <td>0</td>\n",
       "      <td>1</td>\n",
       "      <td>2</td>\n",
       "      <td>0</td>\n",
       "      <td>6</td>\n",
       "      <td>0</td>\n",
       "      <td>1</td>\n",
       "      <td>0.22</td>\n",
       "      <td>0.2727</td>\n",
       "      <td>0.80</td>\n",
       "      <td>0.0</td>\n",
       "      <td>5</td>\n",
       "      <td>27</td>\n",
       "      <td>32</td>\n",
       "    </tr>\n",
       "    <tr>\n",
       "      <th>3</th>\n",
       "      <td>4</td>\n",
       "      <td>2011-01-01</td>\n",
       "      <td>1</td>\n",
       "      <td>0</td>\n",
       "      <td>1</td>\n",
       "      <td>3</td>\n",
       "      <td>0</td>\n",
       "      <td>6</td>\n",
       "      <td>0</td>\n",
       "      <td>1</td>\n",
       "      <td>0.24</td>\n",
       "      <td>0.2879</td>\n",
       "      <td>0.75</td>\n",
       "      <td>0.0</td>\n",
       "      <td>3</td>\n",
       "      <td>10</td>\n",
       "      <td>13</td>\n",
       "    </tr>\n",
       "    <tr>\n",
       "      <th>4</th>\n",
       "      <td>5</td>\n",
       "      <td>2011-01-01</td>\n",
       "      <td>1</td>\n",
       "      <td>0</td>\n",
       "      <td>1</td>\n",
       "      <td>4</td>\n",
       "      <td>0</td>\n",
       "      <td>6</td>\n",
       "      <td>0</td>\n",
       "      <td>1</td>\n",
       "      <td>0.24</td>\n",
       "      <td>0.2879</td>\n",
       "      <td>0.75</td>\n",
       "      <td>0.0</td>\n",
       "      <td>0</td>\n",
       "      <td>1</td>\n",
       "      <td>1</td>\n",
       "    </tr>\n",
       "  </tbody>\n",
       "</table>\n",
       "</div>"
      ],
      "text/plain": [
       "<div>\n",
       "<style scoped>\n",
       "    .dataframe tbody tr th:only-of-type {\n",
       "        vertical-align: middle;\n",
       "    }\n",
       "\n",
       "    .dataframe tbody tr th {\n",
       "        vertical-align: top;\n",
       "    }\n",
       "\n",
       "    .dataframe thead th {\n",
       "        text-align: right;\n",
       "    }\n",
       "</style>\n",
       "<table border=\"1\" class=\"dataframe\">\n",
       "  <thead>\n",
       "    <tr style=\"text-align: right;\">\n",
       "      <th></th>\n",
       "      <th>instant</th>\n",
       "      <th>dteday</th>\n",
       "      <th>season</th>\n",
       "      <th>yr</th>\n",
       "      <th>mnth</th>\n",
       "      <th>hr</th>\n",
       "      <th>holiday</th>\n",
       "      <th>weekday</th>\n",
       "      <th>workingday</th>\n",
       "      <th>weathersit</th>\n",
       "      <th>temp</th>\n",
       "      <th>atemp</th>\n",
       "      <th>hum</th>\n",
       "      <th>windspeed</th>\n",
       "      <th>casual</th>\n",
       "      <th>registered</th>\n",
       "      <th>cnt</th>\n",
       "    </tr>\n",
       "  </thead>\n",
       "  <tbody>\n",
       "    <tr>\n",
       "      <th>0</th>\n",
       "      <td>1</td>\n",
       "      <td>2011-01-01</td>\n",
       "      <td>1</td>\n",
       "      <td>0</td>\n",
       "      <td>1</td>\n",
       "      <td>0</td>\n",
       "      <td>0</td>\n",
       "      <td>6</td>\n",
       "      <td>0</td>\n",
       "      <td>1</td>\n",
       "      <td>0.24</td>\n",
       "      <td>0.2879</td>\n",
       "      <td>0.81</td>\n",
       "      <td>0.0</td>\n",
       "      <td>3</td>\n",
       "      <td>13</td>\n",
       "      <td>16</td>\n",
       "    </tr>\n",
       "    <tr>\n",
       "      <th>1</th>\n",
       "      <td>2</td>\n",
       "      <td>2011-01-01</td>\n",
       "      <td>1</td>\n",
       "      <td>0</td>\n",
       "      <td>1</td>\n",
       "      <td>1</td>\n",
       "      <td>0</td>\n",
       "      <td>6</td>\n",
       "      <td>0</td>\n",
       "      <td>1</td>\n",
       "      <td>0.22</td>\n",
       "      <td>0.2727</td>\n",
       "      <td>0.80</td>\n",
       "      <td>0.0</td>\n",
       "      <td>8</td>\n",
       "      <td>32</td>\n",
       "      <td>40</td>\n",
       "    </tr>\n",
       "    <tr>\n",
       "      <th>2</th>\n",
       "      <td>3</td>\n",
       "      <td>2011-01-01</td>\n",
       "      <td>1</td>\n",
       "      <td>0</td>\n",
       "      <td>1</td>\n",
       "      <td>2</td>\n",
       "      <td>0</td>\n",
       "      <td>6</td>\n",
       "      <td>0</td>\n",
       "      <td>1</td>\n",
       "      <td>0.22</td>\n",
       "      <td>0.2727</td>\n",
       "      <td>0.80</td>\n",
       "      <td>0.0</td>\n",
       "      <td>5</td>\n",
       "      <td>27</td>\n",
       "      <td>32</td>\n",
       "    </tr>\n",
       "    <tr>\n",
       "      <th>3</th>\n",
       "      <td>4</td>\n",
       "      <td>2011-01-01</td>\n",
       "      <td>1</td>\n",
       "      <td>0</td>\n",
       "      <td>1</td>\n",
       "      <td>3</td>\n",
       "      <td>0</td>\n",
       "      <td>6</td>\n",
       "      <td>0</td>\n",
       "      <td>1</td>\n",
       "      <td>0.24</td>\n",
       "      <td>0.2879</td>\n",
       "      <td>0.75</td>\n",
       "      <td>0.0</td>\n",
       "      <td>3</td>\n",
       "      <td>10</td>\n",
       "      <td>13</td>\n",
       "    </tr>\n",
       "    <tr>\n",
       "      <th>4</th>\n",
       "      <td>5</td>\n",
       "      <td>2011-01-01</td>\n",
       "      <td>1</td>\n",
       "      <td>0</td>\n",
       "      <td>1</td>\n",
       "      <td>4</td>\n",
       "      <td>0</td>\n",
       "      <td>6</td>\n",
       "      <td>0</td>\n",
       "      <td>1</td>\n",
       "      <td>0.24</td>\n",
       "      <td>0.2879</td>\n",
       "      <td>0.75</td>\n",
       "      <td>0.0</td>\n",
       "      <td>0</td>\n",
       "      <td>1</td>\n",
       "      <td>1</td>\n",
       "    </tr>\n",
       "  </tbody>\n",
       "</table>\n",
       "</div>"
      ]
     },
     "execution_count": 3,
     "metadata": {},
     "output_type": "execute_result"
    }
   ],
   "source": [
    "bike_rentals = pd.read_csv(\"bike_rental_hour.csv\")\n",
    "bike_rentals.head()"
   ]
  },
  {
   "cell_type": "code",
   "execution_count": 4,
   "metadata": {
    "collapsed": true
   },
   "outputs": [
    {
     "data": {
      "text/plain": [
       "(array([2903., 1311.,  944.,  807.,  804.,  714.,  740.,  706.,  668.,\n         713.,  581.,  584.,  596.,  432.,  458.,  409.,  412.,  334.,\n         266.,  288.,  273.,  237.,  213.,  166.,  187.,  157.,  175.,\n         141.,  122.,  106.,  120.,   96.,   81.,   82.,   61.,   57.,\n          65.,   50.,   44.,   37.,   33.,   21.,   27.,   30.,   30.,\n          29.,   19.,   16.,   17.,    3.,    3.,    5.,    6.]),\n array([  1.        ,  19.41509434,  37.83018868,  56.24528302,\n         74.66037736,  93.0754717 , 111.49056604, 129.90566038,\n        148.32075472, 166.73584906, 185.1509434 , 203.56603774,\n        221.98113208, 240.39622642, 258.81132075, 277.22641509,\n        295.64150943, 314.05660377, 332.47169811, 350.88679245,\n        369.30188679, 387.71698113, 406.13207547, 424.54716981,\n        442.96226415, 461.37735849, 479.79245283, 498.20754717,\n        516.62264151, 535.03773585, 553.45283019, 571.86792453,\n        590.28301887, 608.69811321, 627.11320755, 645.52830189,\n        663.94339623, 682.35849057, 700.77358491, 719.18867925,\n        737.60377358, 756.01886792, 774.43396226, 792.8490566 ,\n        811.26415094, 829.67924528, 848.09433962, 866.50943396,\n        884.9245283 , 903.33962264, 921.75471698, 940.16981132,\n        958.58490566, 977.        ]),\n <a list of 53 Patch objects>)"
      ]
     },
     "execution_count": 4,
     "metadata": {},
     "output_type": "execute_result"
    },
    {
     "data": {
      "image/png": "[encoded data removed]",
      "text/plain": [
       "<Figure size 432x288 with 1 Axes>"
      ]
     },
     "metadata": {},
     "output_type": "display_data"
    }
   ],
   "source": [
    "plt.hist(bike_rentals[\"cnt\"], bins=\"auto\")"
   ]
  },
  {
   "cell_type": "code",
   "execution_count": 5,
   "metadata": {},
   "outputs": [
    {
     "data": {
      "text/plain": [
       "instant       0.278379\nseason        0.178056\nyr            0.250495\nmnth          0.120638\nhr            0.394071\nholiday      -0.030927\nweekday       0.026900\nworkingday    0.030284\nweathersit   -0.142426\ntemp          0.404772\natemp         0.400929\nhum          -0.322911\nwindspeed     0.093234\ncasual        0.694564\nregistered    0.972151\nName: cnt, dtype: float64"
      ]
     },
     "execution_count": 5,
     "metadata": {},
     "output_type": "execute_result"
    }
   ],
   "source": [
    "bike_rentals.corr()[\"cnt\"][:-1]"
   ]
  },
  {
   "cell_type": "markdown",
   "metadata": {},
   "source": [
    "Write a function called assign_label that takes in a numeric value for an hour, and returns:\n",
    "\n",
    "1 if the hour is from 6 to 12\n",
    "\n",
    "2 if the hour is from 12 to 18\n",
    "\n",
    "3 if the hour is from 18 to 24\n",
    "\n",
    "4 if the hour is from 0 to 6\n",
    "\n",
    "Use the apply method on series objects to apply the function to each item in the hr column.\n",
    "\n",
    "Assign the result to the time_label column of bike_rentals."
   ]
  },
  {
   "cell_type": "code",
   "execution_count": 6,
   "metadata": {},
   "outputs": [],
   "source": [
    "def assign_label(hour):\n",
    "    if hour >= 0 and hour < 6:\n",
    "        return 4\n",
    "    else:\n",
    "        return hour//6\n",
    "    \n",
    "bike_rentals[\"time_label\"] = bike_rentals[\"hr\"].apply(assign_label)"
   ]
  },
  {
   "cell_type": "code",
   "execution_count": 7,
   "metadata": {},
   "outputs": [
    {
     "data": {
      "text/html": [
       "<div>\n",
       "<style scoped>\n",
       "    .dataframe tbody tr th:only-of-type {\n",
       "        vertical-align: middle;\n",
       "    }\n",
       "\n",
       "    .dataframe tbody tr th {\n",
       "        vertical-align: top;\n",
       "    }\n",
       "\n",
       "    .dataframe thead th {\n",
       "        text-align: right;\n",
       "    }\n",
       "</style>\n",
       "<table border=\"1\" class=\"dataframe\">\n",
       "  <thead>\n",
       "    <tr style=\"text-align: right;\">\n",
       "      <th></th>\n",
       "      <th>instant</th>\n",
       "      <th>dteday</th>\n",
       "      <th>season</th>\n",
       "      <th>yr</th>\n",
       "      <th>mnth</th>\n",
       "      <th>hr</th>\n",
       "      <th>holiday</th>\n",
       "      <th>weekday</th>\n",
       "      <th>workingday</th>\n",
       "      <th>weathersit</th>\n",
       "      <th>temp</th>\n",
       "      <th>atemp</th>\n",
       "      <th>hum</th>\n",
       "      <th>windspeed</th>\n",
       "      <th>casual</th>\n",
       "      <th>registered</th>\n",
       "      <th>cnt</th>\n",
       "      <th>time_label</th>\n",
       "    </tr>\n",
       "  </thead>\n",
       "  <tbody>\n",
       "    <tr>\n",
       "      <th>0</th>\n",
       "      <td>1</td>\n",
       "      <td>2011-01-01</td>\n",
       "      <td>1</td>\n",
       "      <td>0</td>\n",
       "      <td>1</td>\n",
       "      <td>0</td>\n",
       "      <td>0</td>\n",
       "      <td>6</td>\n",
       "      <td>0</td>\n",
       "      <td>1</td>\n",
       "      <td>0.24</td>\n",
       "      <td>0.2879</td>\n",
       "      <td>0.81</td>\n",
       "      <td>0.0</td>\n",
       "      <td>3</td>\n",
       "      <td>13</td>\n",
       "      <td>16</td>\n",
       "      <td>4</td>\n",
       "    </tr>\n",
       "    <tr>\n",
       "      <th>1</th>\n",
       "      <td>2</td>\n",
       "      <td>2011-01-01</td>\n",
       "      <td>1</td>\n",
       "      <td>0</td>\n",
       "      <td>1</td>\n",
       "      <td>1</td>\n",
       "      <td>0</td>\n",
       "      <td>6</td>\n",
       "      <td>0</td>\n",
       "      <td>1</td>\n",
       "      <td>0.22</td>\n",
       "      <td>0.2727</td>\n",
       "      <td>0.80</td>\n",
       "      <td>0.0</td>\n",
       "      <td>8</td>\n",
       "      <td>32</td>\n",
       "      <td>40</td>\n",
       "      <td>4</td>\n",
       "    </tr>\n",
       "    <tr>\n",
       "      <th>2</th>\n",
       "      <td>3</td>\n",
       "      <td>2011-01-01</td>\n",
       "      <td>1</td>\n",
       "      <td>0</td>\n",
       "      <td>1</td>\n",
       "      <td>2</td>\n",
       "      <td>0</td>\n",
       "      <td>6</td>\n",
       "      <td>0</td>\n",
       "      <td>1</td>\n",
       "      <td>0.22</td>\n",
       "      <td>0.2727</td>\n",
       "      <td>0.80</td>\n",
       "      <td>0.0</td>\n",
       "      <td>5</td>\n",
       "      <td>27</td>\n",
       "      <td>32</td>\n",
       "      <td>4</td>\n",
       "    </tr>\n",
       "    <tr>\n",
       "      <th>3</th>\n",
       "      <td>4</td>\n",
       "      <td>2011-01-01</td>\n",
       "      <td>1</td>\n",
       "      <td>0</td>\n",
       "      <td>1</td>\n",
       "      <td>3</td>\n",
       "      <td>0</td>\n",
       "      <td>6</td>\n",
       "      <td>0</td>\n",
       "      <td>1</td>\n",
       "      <td>0.24</td>\n",
       "      <td>0.2879</td>\n",
       "      <td>0.75</td>\n",
       "      <td>0.0</td>\n",
       "      <td>3</td>\n",
       "      <td>10</td>\n",
       "      <td>13</td>\n",
       "      <td>4</td>\n",
       "    </tr>\n",
       "    <tr>\n",
       "      <th>4</th>\n",
       "      <td>5</td>\n",
       "      <td>2011-01-01</td>\n",
       "      <td>1</td>\n",
       "      <td>0</td>\n",
       "      <td>1</td>\n",
       "      <td>4</td>\n",
       "      <td>0</td>\n",
       "      <td>6</td>\n",
       "      <td>0</td>\n",
       "      <td>1</td>\n",
       "      <td>0.24</td>\n",
       "      <td>0.2879</td>\n",
       "      <td>0.75</td>\n",
       "      <td>0.0</td>\n",
       "      <td>0</td>\n",
       "      <td>1</td>\n",
       "      <td>1</td>\n",
       "      <td>4</td>\n",
       "    </tr>\n",
       "  </tbody>\n",
       "</table>\n",
       "</div>"
      ],
      "text/plain": [
       "<div>\n",
       "<style scoped>\n",
       "    .dataframe tbody tr th:only-of-type {\n",
       "        vertical-align: middle;\n",
       "    }\n",
       "\n",
       "    .dataframe tbody tr th {\n",
       "        vertical-align: top;\n",
       "    }\n",
       "\n",
       "    .dataframe thead th {\n",
       "        text-align: right;\n",
       "    }\n",
       "</style>\n",
       "<table border=\"1\" class=\"dataframe\">\n",
       "  <thead>\n",
       "    <tr style=\"text-align: right;\">\n",
       "      <th></th>\n",
       "      <th>instant</th>\n",
       "      <th>dteday</th>\n",
       "      <th>season</th>\n",
       "      <th>yr</th>\n",
       "      <th>mnth</th>\n",
       "      <th>hr</th>\n",
       "      <th>holiday</th>\n",
       "      <th>weekday</th>\n",
       "      <th>workingday</th>\n",
       "      <th>weathersit</th>\n",
       "      <th>temp</th>\n",
       "      <th>atemp</th>\n",
       "      <th>hum</th>\n",
       "      <th>windspeed</th>\n",
       "      <th>casual</th>\n",
       "      <th>registered</th>\n",
       "      <th>cnt</th>\n",
       "      <th>time_label</th>\n",
       "    </tr>\n",
       "  </thead>\n",
       "  <tbody>\n",
       "    <tr>\n",
       "      <th>0</th>\n",
       "      <td>1</td>\n",
       "      <td>2011-01-01</td>\n",
       "      <td>1</td>\n",
       "      <td>0</td>\n",
       "      <td>1</td>\n",
       "      <td>0</td>\n",
       "      <td>0</td>\n",
       "      <td>6</td>\n",
       "      <td>0</td>\n",
       "      <td>1</td>\n",
       "      <td>0.24</td>\n",
       "      <td>0.2879</td>\n",
       "      <td>0.81</td>\n",
       "      <td>0.0</td>\n",
       "      <td>3</td>\n",
       "      <td>13</td>\n",
       "      <td>16</td>\n",
       "      <td>4</td>\n",
       "    </tr>\n",
       "    <tr>\n",
       "      <th>1</th>\n",
       "      <td>2</td>\n",
       "      <td>2011-01-01</td>\n",
       "      <td>1</td>\n",
       "      <td>0</td>\n",
       "      <td>1</td>\n",
       "      <td>1</td>\n",
       "      <td>0</td>\n",
       "      <td>6</td>\n",
       "      <td>0</td>\n",
       "      <td>1</td>\n",
       "      <td>0.22</td>\n",
       "      <td>0.2727</td>\n",
       "      <td>0.80</td>\n",
       "      <td>0.0</td>\n",
       "      <td>8</td>\n",
       "      <td>32</td>\n",
       "      <td>40</td>\n",
       "      <td>4</td>\n",
       "    </tr>\n",
       "    <tr>\n",
       "      <th>2</th>\n",
       "      <td>3</td>\n",
       "      <td>2011-01-01</td>\n",
       "      <td>1</td>\n",
       "      <td>0</td>\n",
       "      <td>1</td>\n",
       "      <td>2</td>\n",
       "      <td>0</td>\n",
       "      <td>6</td>\n",
       "      <td>0</td>\n",
       "      <td>1</td>\n",
       "      <td>0.22</td>\n",
       "      <td>0.2727</td>\n",
       "      <td>0.80</td>\n",
       "      <td>0.0</td>\n",
       "      <td>5</td>\n",
       "      <td>27</td>\n",
       "      <td>32</td>\n",
       "      <td>4</td>\n",
       "    </tr>\n",
       "    <tr>\n",
       "      <th>3</th>\n",
       "      <td>4</td>\n",
       "      <td>2011-01-01</td>\n",
       "      <td>1</td>\n",
       "      <td>0</td>\n",
       "      <td>1</td>\n",
       "      <td>3</td>\n",
       "      <td>0</td>\n",
       "      <td>6</td>\n",
       "      <td>0</td>\n",
       "      <td>1</td>\n",
       "      <td>0.24</td>\n",
       "      <td>0.2879</td>\n",
       "      <td>0.75</td>\n",
       "      <td>0.0</td>\n",
       "      <td>3</td>\n",
       "      <td>10</td>\n",
       "      <td>13</td>\n",
       "      <td>4</td>\n",
       "    </tr>\n",
       "    <tr>\n",
       "      <th>4</th>\n",
       "      <td>5</td>\n",
       "      <td>2011-01-01</td>\n",
       "      <td>1</td>\n",
       "      <td>0</td>\n",
       "      <td>1</td>\n",
       "      <td>4</td>\n",
       "      <td>0</td>\n",
       "      <td>6</td>\n",
       "      <td>0</td>\n",
       "      <td>1</td>\n",
       "      <td>0.24</td>\n",
       "      <td>0.2879</td>\n",
       "      <td>0.75</td>\n",
       "      <td>0.0</td>\n",
       "      <td>0</td>\n",
       "      <td>1</td>\n",
       "      <td>1</td>\n",
       "      <td>4</td>\n",
       "    </tr>\n",
       "  </tbody>\n",
       "</table>\n",
       "</div>"
      ]
     },
     "execution_count": 7,
     "metadata": {},
     "output_type": "execute_result"
    }
   ],
   "source": [
    "bike_rentals.head()"
   ]
  },
  {
   "cell_type": "markdown",
   "metadata": {},
   "source": [
    "Based on your explorations of the cnt column, pick an error metric you want to use to evaluate the performance of the machine learning algorithms. Explain why you chose this metric in a markdown cell.\n",
    "\n",
    "Select 80% of the rows in bike_rentals to be part of the training set using the sample method on bike_rentals. Assign the result to train.\n",
    "\n",
    "Select the rows that are in bike_rentals but not in train to be in the testing set. Assign the result to test.\n",
    "\n",
    "This line will generate a Boolean series that's False when a row in bike_rentals isn't found in train: bike_rentals.index.isin(train.index)\n",
    "\n",
    "This line will select any rows in bike_rentals that aren't found in train to be in the testing set: bike_rentals.loc[~bike_rentals.index.isin(train.index)]"
   ]
  },
  {
   "cell_type": "code",
   "execution_count": 4,
   "metadata": {
    "collapsed": false
   },
   "outputs": [
    {
     "name": "stdout",
     "output_type": "stream",
     "text": [
      "13903 3476\n"
     ]
    }
   ],
   "source": [
    "perm = np.random.permutation(bike_rentals.index)\n",
    "train_ratio = .8\n",
    "divider = int(len(bike_rentals) * train_ratio)\n",
    "sample = bike_rentals.copy().iloc[perm]\n",
    "train = sample.iloc[:divider, :]\n",
    "test = sample.iloc[divider:, :]\n",
    "print(len(train), len(test))"
   ]
  },
  {
   "cell_type": "markdown",
   "metadata": {},
   "source": [
    "Create a list of predictor columns to use in training and predictions.\n",
    "\n",
    "At a minimum, this list should exclude the cnt, casual, dteday, and registered columns.\n",
    "\n",
    "Feel free to remove other columns you don't think will be useful for the predictions.\n",
    "\n",
    "Use the LinearRegression class from sklearn to train a machine learning algorithm on train.\n",
    "\n",
    "Use only the columns in the list of predictors for this.\n",
    "    \n",
    "Make predictions using the LinearRegression class on test.\n",
    "\n",
    "Use the exact same predictor columns here.\n",
    "\n",
    "Calculate the error between the predictions and the actual values.\n",
    "\n",
    "Write your thoughts about the predictions and the error in a markdown cell."
   ]
  },
  {
   "cell_type": "code",
   "execution_count": 5,
   "metadata": {},
   "outputs": [],
   "source": [
    "from sklearn.linear_model import LinearRegression\n",
    "from sklearn.metrics import mean_squared_error"
   ]
  },
  {
   "cell_type": "code",
   "execution_count": 8,
   "metadata": {},
   "outputs": [
    {
     "name": "stdout",
     "output_type": "stream",
     "text": [
      "Confidence: 0.3483901103376851\nRMSE: 146.3742457900856\n"
     ]
    }
   ],
   "source": [
    "features = ['season', 'mnth', 'hr', 'holiday', 'weekday',\n",
    "            'workingday', 'weathersit', 'temp', 'atemp', 'hum', 'windspeed']\n",
    "lr = LinearRegression()\n",
    "lr.fit(train[features], train[\"cnt\"])\n",
    "yhat = lr.predict(test[features])\n",
    "print(\"Confidence:\", lr.score(test[features], test[\"cnt\"]))\n",
    "rmse = np.sqrt(mean_squared_error(yhat, test[\"cnt\"]))\n",
    "print(\"RMSE:\", rmse)"
   ]
  },
  {
   "cell_type": "code",
   "execution_count": 11,
   "metadata": {},
   "outputs": [
    {
     "data": {
      "text/plain": [
       "[<matplotlib.lines.Line2D at 0x1ed521ad978>]"
      ]
     },
     "execution_count": 11,
     "metadata": {},
     "output_type": "execute_result"
    },
    {
     "data": {
      "image/png": "[encoded data removed]",
      "text/plain": [
       "<Figure size 432x288 with 1 Axes>"
      ]
     },
     "metadata": {},
     "output_type": "display_data"
    }
   ],
   "source": [
    "plt.scatter(yhat, test[\"cnt\"], c=\"k\", s=1)\n",
    "plt.plot([min(yhat.min(), test[\"cnt\"].min()), max(yhat.max(), test[\"cnt\"].max())], \n",
    "         [min(yhat.min(), test[\"cnt\"].min()), max(yhat.max(), test[\"cnt\"].max())],\n",
    "         c=\"r\")"
   ]
  },
  {
   "cell_type": "code",
   "execution_count": 12,
   "metadata": {},
   "outputs": [
    {
     "data": {
      "text/plain": [
       "<matplotlib.legend.Legend at 0x1ed521ee320>"
      ]
     },
     "execution_count": 12,
     "metadata": {},
     "output_type": "execute_result"
    },
    {
     "data": {
      "image/png": "[encoded data removed]",
      "text/plain": [
       "<Figure size 432x288 with 1 Axes>"
      ]
     },
     "metadata": {},
     "output_type": "display_data"
    }
   ],
   "source": [
    "p = np.linspace(0, 1, 1001)[1:-1]\n",
    "q = 1 - p\n",
    "gini = 1 - p**2 - q**2\n",
    "ig = -1*(p*np.log2(p) + q*np.log2(q))\n",
    "plt.plot(p, 2*gini, label=\"gini\")\n",
    "plt.plot(p, ig, label = \"ig\")\n",
    "plt.plot(p, ig - 2*gini)\n",
    "plt.legend()"
   ]
  },
  {
   "cell_type": "markdown",
   "metadata": {},
   "source": [
    "Use the DecisionTreeRegressor class to fit a decision tree algorithm to the train data.\n",
    "\n",
    "Make predictions using the DecisionTreeRegressor class on test.\n",
    "\n",
    "Calculate the error between the predictions and the actual values.\n",
    "\n",
    "Experiment with various parameters of the DecisionTreeRegressor class, including min_samples_leaf, to see if it changes the error.\n",
    "\n",
    "Write your thoughts on the predictions and the error in a markdown cell."
   ]
  },
  {
   "cell_type": "code",
   "execution_count": 6,
   "metadata": {},
   "outputs": [],
   "source": [
    "from sklearn.tree import DecisionTreeRegressor"
   ]
  },
  {
   "cell_type": "code",
   "execution_count": 14,
   "metadata": {},
   "outputs": [
    {
     "name": "stdout",
     "output_type": "stream",
     "text": [
      "Confidence: 0.7627337132524844\nRMSE: 91.32947773872145\n"
     ]
    }
   ],
   "source": [
    "dtr = DecisionTreeRegressor()\n",
    "dtr.fit(train[features], train[\"cnt\"])\n",
    "yhat = dtr.predict(test[features])\n",
    "print(\"Confidence:\", dtr.score(test[features], test[\"cnt\"]))\n",
    "rmse = np.sqrt(mean_squared_error(yhat, test[\"cnt\"]))\n",
    "print(\"RMSE:\", rmse)"
   ]
  },
  {
   "cell_type": "code",
   "execution_count": 15,
   "metadata": {
    "collapsed": false
   },
   "outputs": [
    {
     "data": {
      "text/plain": [
       "[<matplotlib.lines.Line2D at 0x1ed51e08710>]"
      ]
     },
     "execution_count": 15,
     "metadata": {},
     "output_type": "execute_result"
    },
    {
     "data": {
      "image/png": "[encoded data removed]",
      "text/plain": [
       "<Figure size 432x288 with 1 Axes>"
      ]
     },
     "metadata": {},
     "output_type": "display_data"
    }
   ],
   "source": [
    "plt.scatter(yhat, test[\"cnt\"], c=\"k\", s=1)\n",
    "plt.plot([min(yhat.min(), test[\"cnt\"].min()), max(yhat.max(), test[\"cnt\"].max())], \n",
    "         [min(yhat.min(), test[\"cnt\"].min()), max(yhat.max(), test[\"cnt\"].max())],\n",
    "         c=\"r\")"
   ]
  },
  {
   "cell_type": "code",
   "execution_count": 16,
   "metadata": {},
   "outputs": [
    {
     "name": "stdout",
     "output_type": "stream",
     "text": [
      "[0.76324896 0.78243202 0.79533447 0.80137114 0.8066902  0.8112658\n 0.81806377 0.81880762 0.82556258 0.82568353 0.82679147 0.82733917\n 0.82422659 0.82669659 0.83120004 0.83190745 0.82998603 0.8295426\n 0.82552525] [91.2278086  87.45559469 84.82315514 83.56288049 82.43656263 81.45508686\n 79.97465737 79.81102544 78.30919864 78.28204592 78.03287094 77.90940083\n 78.60850406 78.05423873 77.0334074  76.87182387 77.30992708 77.41068045\n 78.31757683]\n"
     ]
    },
    {
     "data": {
      "text/plain": [
       "[<matplotlib.lines.Line2D at 0x1ed52243630>]"
      ]
     },
     "execution_count": 16,
     "metadata": {},
     "output_type": "execute_result"
    },
    {
     "data": {
      "image/png": "[encoded data removed]",
      "text/plain": [
       "<Figure size 432x288 with 2 Axes>"
      ]
     },
     "metadata": {},
     "output_type": "display_data"
    }
   ],
   "source": [
    "msls = range(1, 20)\n",
    "\n",
    "scores_matrix = []\n",
    "rmses_matrix = []\n",
    "for i in range(100):\n",
    "    scores = []\n",
    "    rmses = []\n",
    "    for msl in msls:\n",
    "        dtr = DecisionTreeRegressor(min_samples_leaf=msl)\n",
    "        dtr.fit(train[features], train[\"cnt\"])\n",
    "        yhat = dtr.predict(test[features])\n",
    "        scores.append(dtr.score(test[features], test[\"cnt\"]))\n",
    "        rmse = np.sqrt(mean_squared_error(yhat, test[\"cnt\"]))\n",
    "        rmses.append(rmse)\n",
    "    scores_matrix.append(scores)\n",
    "    rmses_matrix.append(rmses)\n",
    "\n",
    "scores = np.average(scores_matrix, axis=0)\n",
    "rmses = np.average(rmses_matrix, axis=0)\n",
    "\n",
    "print(scores, rmses)\n",
    "\n",
    "f, ax = plt.subplots(2)\n",
    "ax[0].plot(msls, scores)\n",
    "ax[1].plot(msls, rmses)"
   ]
  },
  {
   "cell_type": "code",
   "execution_count": 17,
   "metadata": {},
   "outputs": [
    {
     "name": "stdout",
     "output_type": "stream",
     "text": [
      "15\n15\n"
     ]
    }
   ],
   "source": [
    "print(list(scores).index(max(scores)))\n",
    "print(list(rmses).index((min(rmses))))"
   ]
  },
  {
   "cell_type": "code",
   "execution_count": 19,
   "metadata": {},
   "outputs": [
    {
     "name": "stdout",
     "output_type": "stream",
     "text": [
      "[0.40552568 0.47464734 0.56833742 0.61932194 0.69588636 0.74019435\n 0.76784349 0.80485162 0.82501429 0.8276797  0.82804565 0.82832344\n 0.826291   0.82643343 0.82615196 0.82649094 0.82555101 0.82569076\n 0.82572207 0.82567804 0.82566748 0.82569106 0.82568894 0.82566991\n 0.82567759 0.8256667  0.82570194 0.82568812] [144.56378399 135.89967658 123.18707909 115.68362275 103.39770733\n  95.56904594  90.34068823  82.8276685   78.43217203  77.83253414\n  77.74984709  77.68701829  78.14552597  78.11348125  78.17679289\n  78.10053823  78.31179528  78.28042167  78.27339165  78.2832783\n  78.28564911  78.28035463  78.28083113  78.2851043   78.28337857\n  78.28582503  78.27791068  78.28101504]\n"
     ]
    },
    {
     "data": {
      "text/plain": [
       "[<matplotlib.lines.Line2D at 0x1ed523ebb70>]"
      ]
     },
     "execution_count": 19,
     "metadata": {},
     "output_type": "execute_result"
    },
    {
     "data": {
      "image/png": "[encoded data removed]",
      "text/plain": [
       "<Figure size 432x288 with 2 Axes>"
      ]
     },
     "metadata": {},
     "output_type": "display_data"
    }
   ],
   "source": [
    "mds = range(2, 30)\n",
    "scores_matrix = []\n",
    "rmses_matrix = []\n",
    "for i in range(10):\n",
    "    scores = []\n",
    "    rmses = []\n",
    "    for md in mds:\n",
    "        dtr = DecisionTreeRegressor(min_samples_leaf=10, max_depth=md)\n",
    "        dtr.fit(train[features], train[\"cnt\"])\n",
    "        yhat = dtr.predict(test[features])\n",
    "        scores.append(dtr.score(test[features], test[\"cnt\"]))\n",
    "        rmse = np.sqrt(mean_squared_error(yhat, test[\"cnt\"]))\n",
    "        rmses.append(rmse)\n",
    "    scores_matrix.append(scores)\n",
    "    rmses_matrix.append(rmses)\n",
    "\n",
    "scores = np.average(scores_matrix, axis=0)\n",
    "rmses = np.average(rmses_matrix, axis=0)\n",
    "\n",
    "print(scores, rmses)\n",
    "\n",
    "f, ax = plt.subplots(2)\n",
    "ax[0].plot(mds, scores)\n",
    "ax[1].plot(mds, rmses)"
   ]
  },
  {
   "cell_type": "code",
   "execution_count": 21,
   "metadata": {
    "collapsed": true
   },
   "outputs": [
    {
     "name": "stdout",
     "output_type": "stream",
     "text": [
      "[0.29308603 0.40194767 0.45025621 0.51626938 0.53389121 0.55473956\n 0.57657733 0.59269406 0.61015536 0.62409766 0.64878689 0.67532757\n 0.6826765  0.69038221 0.69537682 0.69633844 0.69863644 0.7021232\n 0.70583731 0.70787003 0.7106134  0.7133668  0.71694481 0.71848706\n 0.71985696 0.72160098 0.72407901 0.72595938 0.72492041 0.72665829\n 0.72713018 0.72702742 0.72904386 0.73126538 0.74036531 0.74335779\n 0.74545073 0.74705734 0.74794907 0.7490367  0.75104213 0.75202337\n 0.75389773 0.75526772 0.75674897 0.75805989 0.75987158 0.76086929\n 0.76308558 0.77677233 0.78001862 0.78511151 0.78691663 0.78778418\n 0.78920489 0.79068204 0.7923309  0.79340728 0.79319889 0.79310305\n 0.79397651 0.7946771  0.79538325 0.79545896 0.79556967 0.79611204\n 0.79797765 0.79844507 0.79862071 0.79896388 0.80252919 0.80289484\n 0.803182   0.80375196 0.80380467 0.80448704 0.80509551 0.8054352\n 0.80597302 0.80710388 0.80768725 0.80784903 0.80776883 0.80880896\n 0.80911179 0.80839346 0.80801154 0.80845143 0.80912714 0.80998491\n 0.81036699 0.81052867 0.81075199 0.81013732 0.81087152 0.81157933\n 0.81231045 0.8132693 ] [157.64356168 144.99817939 139.0186683  130.40515129 128.00784952\n 125.11230183 122.00566953 119.66119339 117.06814565 114.95568944\n 111.11644027 106.83551941 105.61949274 104.32920784 103.48429202\n 103.32082582 102.92913522 102.33196139 101.69199072 101.3400266\n 100.86306592 100.38208253  99.75358694  99.48145772  99.23911321\n  98.92972614  98.48845606  98.15228848  98.33817358  98.02704515\n  97.94239305  97.9608336   97.59834522  97.19742705  95.53759724\n  94.9854319   94.59733159  94.29832836  94.13196183  93.92864664\n  93.55260572  93.36806     93.01452399  92.75526845  92.47414079\n  92.22462387  91.87867753  91.68760614  91.2617325   88.58638342\n  87.93988948  86.91595972  86.55013267  86.37376188  86.08415612\n  85.78200678  85.44347332  85.22175286  85.26472331  85.28447896\n  85.10426592  84.95944272  84.81321949  84.79752715  84.7745746\n  84.66204323  84.27381823  84.1762688   84.13958477  84.06786317\n  83.3190694   83.24189477  83.18123529  83.06070668  83.04955192\n  82.90500131  82.77589437  82.70372887  82.58934502  82.34831203\n  82.22369738  82.18910416  82.2062548   81.98355123  81.91859784\n  82.07258659  82.15434065  82.06017073  81.91530395  81.73103504\n  81.64882334  81.61400898  81.56589659  81.69825108  81.54013488\n  81.38741005  81.22935429  81.02160117]\n"
     ]
    },
    {
     "data": {
      "text/plain": [
       "[<matplotlib.lines.Line2D at 0x1ed5253a470>]"
      ]
     },
     "execution_count": 21,
     "metadata": {},
     "output_type": "execute_result"
    },
    {
     "data": {
      "image/png": "[encoded data removed]",
      "text/plain": [
       "<Figure size 432x288 with 2 Axes>"
      ]
     },
     "metadata": {},
     "output_type": "display_data"
    }
   ],
   "source": [
    "mlns = range(2, 100)\n",
    "scores_matrix = []\n",
    "rmses_matrix = []\n",
    "for i in range(10):\n",
    "    scores = []\n",
    "    rmses = []\n",
    "    for mln in mlns:\n",
    "        dtr = DecisionTreeRegressor(min_samples_leaf=10, max_depth=10, max_leaf_nodes=mln)\n",
    "        dtr.fit(train[features], train[\"cnt\"])\n",
    "        yhat = dtr.predict(test[features])\n",
    "        scores.append(dtr.score(test[features], test[\"cnt\"]))\n",
    "        rmse = np.sqrt(mean_squared_error(yhat, test[\"cnt\"]))\n",
    "        rmses.append(rmse)\n",
    "    scores_matrix.append(scores)\n",
    "    rmses_matrix.append(rmses)\n",
    "\n",
    "scores = np.average(scores_matrix, axis=0)\n",
    "rmses = np.average(rmses_matrix, axis=0)\n",
    "\n",
    "print(scores, rmses)\n",
    "\n",
    "f, ax = plt.subplots(2)\n",
    "ax[0].plot(mlns, scores)\n",
    "ax[1].plot(mlns, rmses)"
   ]
  },
  {
   "cell_type": "code",
   "execution_count": 29,
   "metadata": {
    "collapsed": true
   },
   "outputs": [
    {
     "name": "stdout",
     "output_type": "stream",
     "text": [
      "[0.82502482 0.82500495 0.82502665 0.82501719 0.82500985 0.82505875\n 0.82506817 0.82503548 0.82506405 0.82506852 0.82506498 0.82503993\n 0.82504716 0.82507209 0.8250579  0.82502547 0.82503167 0.82502832\n 0.82501818 0.8250066  0.82501465 0.82502377 0.82498819 0.82503622\n 0.82502776 0.82500694 0.82505048 0.82507377 0.82506053 0.82504965\n 0.82502422 0.82504382 0.82506557 0.82508616 0.82507626 0.82507123\n 0.82504399 0.82503518 0.82501884 0.82499488 0.82498439 0.8250194\n 0.8250058  0.82502925 0.82503807 0.8250367  0.82501008 0.82500803\n 0.82499989 0.82502453 0.82501461 0.82498061 0.82499703 0.82507962\n 0.8250359  0.82503359 0.82493599 0.82494427 0.82494442 0.82493972\n 0.82493332 0.82494025 0.82493688 0.82494159 0.82497421 0.82499096\n 0.8249923  0.82498492 0.82499803 0.82499756 0.825008   0.82498962\n 0.82499397 0.82502373 0.82501399 0.8250123  0.82500077 0.82498619\n 0.82496415 0.82493722 0.82493588 0.82493353 0.82493486 0.82494091\n 0.82487936 0.82488305 0.82488843 0.82488843 0.82489794 0.8248865\n 0.82488481 0.82487269 0.82489631 0.82490264 0.82494824 0.82495397\n 0.82494656 0.82495464 0.82494891 0.82495295] [78.42981335 78.43426564 78.42940243 78.43152184 78.43316797 78.42220871\n 78.4200973  78.42742386 78.42101949 78.4200193  78.42081108 78.42642738\n 78.42480528 78.4192192  78.42239832 78.42966813 78.42827739 78.42902928\n 78.43130076 78.43389666 78.43209098 78.43004866 78.43802266 78.42725792\n 78.42915347 78.43382066 78.42406191 78.41884151 78.42180998 78.42424845\n 78.42994639 78.42555534 78.42067875 78.41606453 78.41828362 78.41941134\n 78.42551703 78.42749161 78.43115376 78.43652197 78.43887353 78.43102855\n 78.43407589 78.42882134 78.42684344 78.4271503  78.43311589 78.43357616\n 78.43540105 78.429877   78.43210101 78.43971965 78.43604164 78.41752939\n 78.42732918 78.42784759 78.44971876 78.4478633  78.44782961 78.44888377\n 78.45031728 78.44876443 78.44952066 78.44846525 78.44115576 78.43740123\n 78.43710202 78.43875603 78.43581788 78.43592312 78.43358334 78.43770262\n 78.436726   78.43005835 78.43224031 78.43261851 78.43520365 78.43847022\n 78.44340933 78.44944356 78.44974274 78.45027043 78.44997128 78.44861668\n 78.46240571 78.46157897 78.46037417 78.46037415 78.45824394 78.46080735\n 78.4611854  78.46390113 78.45860873 78.45719124 78.44697374 78.44568976\n 78.44735188 78.44554019 78.44682415 78.44591831]\n"
     ]
    },
    {
     "data": {
      "text/plain": [
       "[<matplotlib.lines.Line2D at 0x1ed53bd1f98>]"
      ]
     },
     "execution_count": 29,
     "metadata": {},
     "output_type": "execute_result"
    }
   ],
   "source": [
    "mids = np.linspace(0, 0.5, 100)\n",
    "scores_matrix = []\n",
    "rmses_matrix = []\n",
    "for i in range(10):\n",
    "    scores = []\n",
    "    rmses = []\n",
    "    for mid in mids:\n",
    "        dtr = DecisionTreeRegressor(min_samples_leaf=10, max_depth=10, min_impurity_decrease=mid)\n",
    "        dtr.fit(train[features], train[\"cnt\"])\n",
    "        yhat = dtr.predict(test[features])\n",
    "        scores.append(dtr.score(test[features], test[\"cnt\"]))\n",
    "        rmse = np.sqrt(mean_squared_error(yhat, test[\"cnt\"]))\n",
    "        rmses.append(rmse)\n",
    "    scores_matrix.append(scores)\n",
    "    rmses_matrix.append(rmses)\n",
    "\n",
    "scores = np.average(scores_matrix, axis=0)\n",
    "rmses = np.average(rmses_matrix, axis=0)\n",
    "\n",
    "print(scores, rmses)\n",
    "\n",
    "f, ax = plt.subplots(2)\n",
    "ax[0].plot(mids, scores)\n",
    "ax[1].plot(mids, rmses)"
   ]
  },
  {
   "cell_type": "code",
   "execution_count": 15,
   "metadata": {},
   "outputs": [
    {
     "name": "stdout",
     "output_type": "stream",
     "text": [
      "0.8120263671023951 78.61751356307744\n"
     ]
    }
   ],
   "source": [
    "dtr = DecisionTreeRegressor(min_samples_leaf=10, max_depth=10)\n",
    "dtr.fit(train[features], train[\"cnt\"])\n",
    "score = dtr.score(test[features], test[\"cnt\"])\n",
    "yhat = dtr.predict(test[features])\n",
    "rmse = np.sqrt(mean_squared_error(yhat, test[\"cnt\"]))\n",
    "\n",
    "print(score, rmse)\n",
    "\n"
   ]
  },
  {
   "cell_type": "code",
   "execution_count": 16,
   "metadata": {
    "collapsed": false
   },
   "outputs": [
    {
     "data": {
      "text/plain": [
       "[<matplotlib.lines.Line2D at 0x29610ef62b0>]"
      ]
     },
     "execution_count": 16,
     "metadata": {},
     "output_type": "execute_result"
    },
    {
     "data": {
      "image/png": "[encoded data removed]",
      "text/plain": [
       "<Figure size 432x288 with 1 Axes>"
      ]
     },
     "metadata": {},
     "output_type": "display_data"
    }
   ],
   "source": [
    "plt.scatter(yhat, test[\"cnt\"], c=\"k\", s=1)\n",
    "plt.plot([min(yhat.min(), test[\"cnt\"].min()), max(yhat.max(), test[\"cnt\"].max())], \n",
    "         [min(yhat.min(), test[\"cnt\"].min()), max(yhat.max(), test[\"cnt\"].max())],\n",
    "         c=\"r\")"
   ]
  },
  {
   "cell_type": "code",
   "execution_count": 10,
   "metadata": {},
   "outputs": [],
   "source": [
    ""
   ]
  },
  {
   "cell_type": "code",
   "execution_count": null,
   "metadata": {},
   "outputs": [],
   "source": [
    ""
   ]
  }
 ],
 "metadata": {},
 "nbformat": 4,
 "nbformat_minor": 2
}
